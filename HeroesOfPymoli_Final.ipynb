{
 "cells": [
  {
   "cell_type": "markdown",
   "metadata": {},
   "source": [
    "### Note\n",
    "* Instructions have been included for each segment. You do not have to follow them exactly, but they are included to help you think through the steps."
   ]
  },
  {
   "cell_type": "code",
   "execution_count": 1,
   "metadata": {},
   "outputs": [],
   "source": [
    "# Dependencies and Setup\n",
    "import pandas as pd\n",
    "import numpy as np \n",
    " \n",
    "# File to Load (Remember to Change These)\n",
    "filepath_json = \"Data/purchase_data.json\"  "
   ]
  },
  {
   "cell_type": "code",
   "execution_count": 2,
   "metadata": {},
   "outputs": [
    {
     "data": {
      "text/html": [
       "<div>\n",
       "<style scoped>\n",
       "    .dataframe tbody tr th:only-of-type {\n",
       "        vertical-align: middle;\n",
       "    }\n",
       "\n",
       "    .dataframe tbody tr th {\n",
       "        vertical-align: top;\n",
       "    }\n",
       "\n",
       "    .dataframe thead th {\n",
       "        text-align: right;\n",
       "    }\n",
       "</style>\n",
       "<table border=\"1\" class=\"dataframe\">\n",
       "  <thead>\n",
       "    <tr style=\"text-align: right;\">\n",
       "      <th></th>\n",
       "      <th>SN</th>\n",
       "      <th>Age</th>\n",
       "      <th>Gender</th>\n",
       "      <th>Item ID</th>\n",
       "      <th>Item Name</th>\n",
       "      <th>Price</th>\n",
       "    </tr>\n",
       "  </thead>\n",
       "  <tbody>\n",
       "    <tr>\n",
       "      <td>0</td>\n",
       "      <td>Aelalis34</td>\n",
       "      <td>38</td>\n",
       "      <td>Male</td>\n",
       "      <td>165</td>\n",
       "      <td>Bone Crushing Silver Skewer</td>\n",
       "      <td>3.37</td>\n",
       "    </tr>\n",
       "    <tr>\n",
       "      <td>1</td>\n",
       "      <td>Eolo46</td>\n",
       "      <td>21</td>\n",
       "      <td>Male</td>\n",
       "      <td>119</td>\n",
       "      <td>Stormbringer, Dark Blade of Ending Misery</td>\n",
       "      <td>2.32</td>\n",
       "    </tr>\n",
       "    <tr>\n",
       "      <td>2</td>\n",
       "      <td>Assastnya25</td>\n",
       "      <td>34</td>\n",
       "      <td>Male</td>\n",
       "      <td>174</td>\n",
       "      <td>Primitive Blade</td>\n",
       "      <td>2.46</td>\n",
       "    </tr>\n",
       "    <tr>\n",
       "      <td>3</td>\n",
       "      <td>Pheusrical25</td>\n",
       "      <td>21</td>\n",
       "      <td>Male</td>\n",
       "      <td>92</td>\n",
       "      <td>Final Critic</td>\n",
       "      <td>1.36</td>\n",
       "    </tr>\n",
       "    <tr>\n",
       "      <td>4</td>\n",
       "      <td>Aela59</td>\n",
       "      <td>23</td>\n",
       "      <td>Male</td>\n",
       "      <td>63</td>\n",
       "      <td>Stormfury Mace</td>\n",
       "      <td>1.27</td>\n",
       "    </tr>\n",
       "    <tr>\n",
       "      <td>...</td>\n",
       "      <td>...</td>\n",
       "      <td>...</td>\n",
       "      <td>...</td>\n",
       "      <td>...</td>\n",
       "      <td>...</td>\n",
       "      <td>...</td>\n",
       "    </tr>\n",
       "    <tr>\n",
       "      <td>775</td>\n",
       "      <td>Eural50</td>\n",
       "      <td>22</td>\n",
       "      <td>Male</td>\n",
       "      <td>98</td>\n",
       "      <td>Deadline, Voice Of Subtlety</td>\n",
       "      <td>3.62</td>\n",
       "    </tr>\n",
       "    <tr>\n",
       "      <td>776</td>\n",
       "      <td>Lirtossa78</td>\n",
       "      <td>14</td>\n",
       "      <td>Male</td>\n",
       "      <td>104</td>\n",
       "      <td>Gladiator's Glaive</td>\n",
       "      <td>1.36</td>\n",
       "    </tr>\n",
       "    <tr>\n",
       "      <td>777</td>\n",
       "      <td>Tillyrin30</td>\n",
       "      <td>20</td>\n",
       "      <td>Male</td>\n",
       "      <td>117</td>\n",
       "      <td>Heartstriker, Legacy of the Light</td>\n",
       "      <td>4.15</td>\n",
       "    </tr>\n",
       "    <tr>\n",
       "      <td>778</td>\n",
       "      <td>Quelaton80</td>\n",
       "      <td>20</td>\n",
       "      <td>Male</td>\n",
       "      <td>75</td>\n",
       "      <td>Brutality Ivory Warmace</td>\n",
       "      <td>1.72</td>\n",
       "    </tr>\n",
       "    <tr>\n",
       "      <td>779</td>\n",
       "      <td>Alim85</td>\n",
       "      <td>23</td>\n",
       "      <td>Female</td>\n",
       "      <td>107</td>\n",
       "      <td>Splitter, Foe Of Subtlety</td>\n",
       "      <td>3.61</td>\n",
       "    </tr>\n",
       "  </tbody>\n",
       "</table>\n",
       "<p>780 rows × 6 columns</p>\n",
       "</div>"
      ],
      "text/plain": [
       "               SN  Age  Gender  Item ID  \\\n",
       "0       Aelalis34   38    Male      165   \n",
       "1          Eolo46   21    Male      119   \n",
       "2     Assastnya25   34    Male      174   \n",
       "3    Pheusrical25   21    Male       92   \n",
       "4          Aela59   23    Male       63   \n",
       "..            ...  ...     ...      ...   \n",
       "775       Eural50   22    Male       98   \n",
       "776    Lirtossa78   14    Male      104   \n",
       "777    Tillyrin30   20    Male      117   \n",
       "778    Quelaton80   20    Male       75   \n",
       "779        Alim85   23  Female      107   \n",
       "\n",
       "                                     Item Name  Price  \n",
       "0                  Bone Crushing Silver Skewer   3.37  \n",
       "1    Stormbringer, Dark Blade of Ending Misery   2.32  \n",
       "2                              Primitive Blade   2.46  \n",
       "3                                 Final Critic   1.36  \n",
       "4                               Stormfury Mace   1.27  \n",
       "..                                         ...    ...  \n",
       "775                Deadline, Voice Of Subtlety   3.62  \n",
       "776                         Gladiator's Glaive   1.36  \n",
       "777          Heartstriker, Legacy of the Light   4.15  \n",
       "778                    Brutality Ivory Warmace   1.72  \n",
       "779                  Splitter, Foe Of Subtlety   3.61  \n",
       "\n",
       "[780 rows x 6 columns]"
      ]
     },
     "execution_count": 2,
     "metadata": {},
     "output_type": "execute_result"
    }
   ],
   "source": [
    "# Read Purchasing File and store into Pandas data frame\n",
    "purchase_data= pd.read_json(filepath_json,orient=\"records\")\n",
    "purchase_data"
   ]
  },
  {
   "cell_type": "code",
   "execution_count": 3,
   "metadata": {},
   "outputs": [
    {
     "data": {
      "text/html": [
       "<div>\n",
       "<style scoped>\n",
       "    .dataframe tbody tr th:only-of-type {\n",
       "        vertical-align: middle;\n",
       "    }\n",
       "\n",
       "    .dataframe tbody tr th {\n",
       "        vertical-align: top;\n",
       "    }\n",
       "\n",
       "    .dataframe thead th {\n",
       "        text-align: right;\n",
       "    }\n",
       "</style>\n",
       "<table border=\"1\" class=\"dataframe\">\n",
       "  <thead>\n",
       "    <tr style=\"text-align: right;\">\n",
       "      <th></th>\n",
       "      <th>Gender</th>\n",
       "      <th>SN</th>\n",
       "      <th>Age</th>\n",
       "    </tr>\n",
       "  </thead>\n",
       "  <tbody>\n",
       "    <tr>\n",
       "      <td>0</td>\n",
       "      <td>Male</td>\n",
       "      <td>Aelalis34</td>\n",
       "      <td>38</td>\n",
       "    </tr>\n",
       "    <tr>\n",
       "      <td>1</td>\n",
       "      <td>Male</td>\n",
       "      <td>Eolo46</td>\n",
       "      <td>21</td>\n",
       "    </tr>\n",
       "    <tr>\n",
       "      <td>2</td>\n",
       "      <td>Male</td>\n",
       "      <td>Assastnya25</td>\n",
       "      <td>34</td>\n",
       "    </tr>\n",
       "    <tr>\n",
       "      <td>3</td>\n",
       "      <td>Male</td>\n",
       "      <td>Pheusrical25</td>\n",
       "      <td>21</td>\n",
       "    </tr>\n",
       "    <tr>\n",
       "      <td>4</td>\n",
       "      <td>Male</td>\n",
       "      <td>Aela59</td>\n",
       "      <td>23</td>\n",
       "    </tr>\n",
       "    <tr>\n",
       "      <td>...</td>\n",
       "      <td>...</td>\n",
       "      <td>...</td>\n",
       "      <td>...</td>\n",
       "    </tr>\n",
       "    <tr>\n",
       "      <td>775</td>\n",
       "      <td>Male</td>\n",
       "      <td>Eural50</td>\n",
       "      <td>22</td>\n",
       "    </tr>\n",
       "    <tr>\n",
       "      <td>776</td>\n",
       "      <td>Male</td>\n",
       "      <td>Lirtossa78</td>\n",
       "      <td>14</td>\n",
       "    </tr>\n",
       "    <tr>\n",
       "      <td>777</td>\n",
       "      <td>Male</td>\n",
       "      <td>Tillyrin30</td>\n",
       "      <td>20</td>\n",
       "    </tr>\n",
       "    <tr>\n",
       "      <td>778</td>\n",
       "      <td>Male</td>\n",
       "      <td>Quelaton80</td>\n",
       "      <td>20</td>\n",
       "    </tr>\n",
       "    <tr>\n",
       "      <td>779</td>\n",
       "      <td>Female</td>\n",
       "      <td>Alim85</td>\n",
       "      <td>23</td>\n",
       "    </tr>\n",
       "  </tbody>\n",
       "</table>\n",
       "<p>780 rows × 3 columns</p>\n",
       "</div>"
      ],
      "text/plain": [
       "     Gender            SN  Age\n",
       "0      Male     Aelalis34   38\n",
       "1      Male        Eolo46   21\n",
       "2      Male   Assastnya25   34\n",
       "3      Male  Pheusrical25   21\n",
       "4      Male        Aela59   23\n",
       "..      ...           ...  ...\n",
       "775    Male       Eural50   22\n",
       "776    Male    Lirtossa78   14\n",
       "777    Male    Tillyrin30   20\n",
       "778    Male    Quelaton80   20\n",
       "779  Female        Alim85   23\n",
       "\n",
       "[780 rows x 3 columns]"
      ]
     },
     "execution_count": 3,
     "metadata": {},
     "output_type": "execute_result"
    }
   ],
   "source": [
    "purchase_datadf = purchase_data.loc[:,[\"Gender\",\"SN\",\"Age\"]]\n",
    "purchase_datadf "
   ]
  },
  {
   "cell_type": "markdown",
   "metadata": {},
   "source": [
    "## Player Count"
   ]
  },
  {
   "cell_type": "markdown",
   "metadata": {},
   "source": [
    "* Display the total number of players\n"
   ]
  },
  {
   "cell_type": "code",
   "execution_count": 4,
   "metadata": {},
   "outputs": [
    {
     "data": {
      "text/plain": [
       "573"
      ]
     },
     "execution_count": 4,
     "metadata": {},
     "output_type": "execute_result"
    }
   ],
   "source": [
    "totalplayers = purchase_data['SN'].nunique()\n",
    "totalplayers"
   ]
  },
  {
   "cell_type": "markdown",
   "metadata": {},
   "source": [
    "purchase_datadf = pd.DataFrame(purchase_data)\n",
    "purchase_datadf"
   ]
  },
  {
   "cell_type": "markdown",
   "metadata": {},
   "source": [
    "## Purchasing Analysis (Total)"
   ]
  },
  {
   "cell_type": "markdown",
   "metadata": {},
   "source": [
    "* Run basic calculations to obtain number of unique items, average price, etc.\n",
    "\n",
    "\n",
    "* Create a summary data frame to hold the results\n",
    "\n",
    "\n",
    "* Optional: give the displayed data cleaner formatting\n",
    "\n",
    "\n",
    "* Display the summary data frame\n"
   ]
  },
  {
   "cell_type": "markdown",
   "metadata": {},
   "source": [
    "#Minor Data Munging\n",
    "summary_table = summary_table.round(2)\n",
    "summary_table [\"Average Price\"] = summary_table[\"Average Price\"].map(\"${:,.2f}\".format)\n",
    "summary_table [\"Number of Purchases\"] = summary_table[\"Number of Purchases\"].map(\"{:,}\".format)\n",
    "summary_table [\"Total Revenue\"] = summary_table[\"Total Revenue\"].map(\"${:,.2f}\".format)\n",
    "summary_table = summary_table.loc[:,[\"Number of Unique Items\", \"Average Price\", \"Number of Purchases\", \"Total Revenue\"]]\n",
    "\\"
   ]
  },
  {
   "cell_type": "code",
   "execution_count": 5,
   "metadata": {},
   "outputs": [
    {
     "ename": "NameError",
     "evalue": "name 'purchase_data_json' is not defined",
     "output_type": "error",
     "traceback": [
      "\u001b[1;31m---------------------------------------------------------------------------\u001b[0m",
      "\u001b[1;31mNameError\u001b[0m                                 Traceback (most recent call last)",
      "\u001b[1;32m<ipython-input-5-a2a29f3435b3>\u001b[0m in \u001b[0;36m<module>\u001b[1;34m\u001b[0m\n\u001b[1;32m----> 1\u001b[1;33m \u001b[0mpurchase_data_json\u001b[0m\u001b[1;33m.\u001b[0m\u001b[0mhead\u001b[0m\u001b[1;33m(\u001b[0m\u001b[1;36m5\u001b[0m\u001b[1;33m)\u001b[0m\u001b[1;33m\u001b[0m\u001b[1;33m\u001b[0m\u001b[0m\n\u001b[0m",
      "\u001b[1;31mNameError\u001b[0m: name 'purchase_data_json' is not defined"
     ]
    }
   ],
   "source": [
    "purchase_data_json.head(5)"
   ]
  },
  {
   "cell_type": "code",
   "execution_count": null,
   "metadata": {
    "scrolled": true
   },
   "outputs": [],
   "source": [
    "# Run basic calculations to obtain number of unique items, average price, etc.\n",
    "uniqueitemsname = purchase_data.loc[purchase_data['Item Name']].unique()\n",
    "uniqueitems = purchase_data['Item Name'].nunique()\n",
    "avgprice = purchase_data['Price'].mean()\n",
    "numberofpurchase = purchase_data['Purchase ID'].count()\n",
    "totalrevenue = purchase_data['Price'].sum()\n",
    "purchase_data.columns\n",
    "purchasinganalysis_dict = {\n",
    "    'Summary':[]\n",
    "}"
   ]
  },
  {
   "cell_type": "markdown",
   "metadata": {},
   "source": [
    "#totalrevenue\n",
    "#uniqueitems\n",
    "#avgprice\n",
    "#numberofpurchase"
   ]
  },
  {
   "cell_type": "code",
   "execution_count": null,
   "metadata": {},
   "outputs": [],
   "source": [
    "uniqueitemsname"
   ]
  },
  {
   "cell_type": "code",
   "execution_count": null,
   "metadata": {},
   "outputs": [],
   "source": [
    "summarydict = {\n",
    "    '# of Unique Items':uniqueitems,\n",
    "    'The Average Price':avgprice,\n",
    "    'Total Number of Purchases':numberofpurchase,\n",
    "    'Total Revenue':totalrevenue\n",
    "}\n",
    "purchasinganalysis_dict['Summary'].append(summarydict)\n",
    "purchasinganalysis_dict\n",
    "summarydf = pd.DataFrame(purchasinganalysis_dict['Summary'])\n",
    "summarydf.drop_duplicates(inplace=True)"
   ]
  },
  {
   "cell_type": "code",
   "execution_count": null,
   "metadata": {},
   "outputs": [],
   "source": [
    "summarydf"
   ]
  },
  {
   "cell_type": "code",
   "execution_count": null,
   "metadata": {},
   "outputs": [],
   "source": [
    "purchasinganalysis_dict"
   ]
  },
  {
   "cell_type": "markdown",
   "metadata": {},
   "source": [
    "## Gender Demographics"
   ]
  },
  {
   "cell_type": "markdown",
   "metadata": {},
   "source": [
    "* Percentage and Count of Male Players\n",
    "\n",
    "\n",
    "* Percentage and Count of Female Players\n",
    "\n",
    "\n",
    "* Percentage and Count of Other / Non-Disclosed\n",
    "\n",
    "\n"
   ]
  },
  {
   "cell_type": "code",
   "execution_count": null,
   "metadata": {},
   "outputs": [],
   "source": [
    "purchase_datadf = pd.DataFrame(purchasinganalysis_dict[\"Summary\"])\n",
    "purchase_datadf"
   ]
  },
  {
   "cell_type": "code",
   "execution_count": null,
   "metadata": {},
   "outputs": [],
   "source": [
    "purchase_datadf = pd.DataFrame(purchasinganalysis_dict[\"Summary\"])\n",
    "purchase_datadf"
   ]
  },
  {
   "cell_type": "code",
   "execution_count": null,
   "metadata": {},
   "outputs": [],
   "source": [
    "purchase_datadf = pd.DataFrame(purchase_data)\n",
    "purchase_datadf"
   ]
  },
  {
   "cell_type": "code",
   "execution_count": null,
   "metadata": {
    "scrolled": true
   },
   "outputs": [],
   "source": [
    "index = [0,1,2]\n",
    "\n",
    "#Percentage of Players(M/F/O)\n",
    "CountPlayers = purchase_datadf[\"Gender\"].value_counts()\n",
    "SumPlayers = CountPlayers.sum() \n",
    "CountPlayersdf = pd.DataFrame(purchase_datadf[\"Gender\"].value_counts())\n",
    "CountPlayersdf = CountPlayersdf.rename(columns={'Gender':'Player Count'})\n",
    "CountPlayersdf\n",
    "\n",
    "#Inserting the Total Count of Players df into the Percent Players Array\n",
    "PercentPlayersArray = CountPlayersdf.values\n",
    "#Getting the Male Percentage\n",
    "PplayersM = pd.DataFrame(PercentPlayersArray[0]/SumPlayers)*100\n",
    "PplayersM = PplayersM.round(decimals=1)\n",
    "#Getting the Female Percentage\n",
    "PplayersF = pd.DataFrame(PercentPlayersArray[1]/SumPlayers)*100\n",
    "PplayersF = PplayersF.round(decimals=1)\n",
    "#Getting the Other/Non-Disclosed Percentage\n",
    "PplayersO = pd.DataFrame(PercentPlayersArray[2]/SumPlayers)*100\n",
    "PplayersO = PplayersO.round(decimals=1)\n",
    "\n",
    "#Creating a new column called 'Gender Percentage' and Inserting the correct values\n",
    "#into each catagory.\n",
    "\n",
    "CountPlayersdf[\" Gender Percentage\"] = pd.DataFrame([[float(PplayersM.values)],[float(PplayersF.values)],[float(PplayersO.values)]],columns= [''],index=['Male','Female','Other/Non-Disclosed'])\n",
    "\n",
    "#Displaying the DataFrame\n",
    "\n",
    "CountPlayersdf"
   ]
  },
  {
   "cell_type": "markdown",
   "metadata": {},
   "source": [
    "\n",
    "## Purchasing Analysis (Gender)"
   ]
  },
  {
   "cell_type": "markdown",
   "metadata": {},
   "source": [
    "* Run basic calculations to obtain purchase count, avg. purchase price, avg. purchase total per person etc. by gender\n",
    "\n",
    "\n",
    "\n",
    "\n",
    "* Create a summary data frame to hold the results\n",
    "\n",
    "\n",
    "* Optional: give the displayed data cleaner formatting\n",
    "\n",
    "\n",
    "* Display the summary data frame"
   ]
  },
  {
   "cell_type": "code",
   "execution_count": null,
   "metadata": {},
   "outputs": [],
   "source": [
    "gendersort = purchase_datadf.sort_values('Gender')\n",
    "genderdf = pd.DataFrame(gendersort)\n",
    "\n",
    "malesort = genderdf.loc[genderdf['Gender']== \"Male\", :]\n",
    "avgmalepprice = malesort['Price'].mean()\n",
    "avgmaleptotal = malesort['Purchase ID'].count()\n",
    "\n",
    "femalesort = genderdf.loc[genderdf['Gender']== \"Female\", :]\n",
    "avgfemalepprice = femalesort['Price'].mean()\n",
    "avgfemaleptotal = femalesort['Purchase ID'].count()\n",
    "\n",
    "othersort = genderdf.loc[genderdf['Gender']== \"Other / Non-Disclosed\", :]\n",
    "avgotherpprice = othersort['Price'].mean()\n",
    "avgotherptotal = othersort['Purchase ID'].count()\n",
    "\n",
    "\n",
    "genderdict = {\n",
    "    \"Average Male Purchase Price\":avgmalepprice,\n",
    "    \"Average Male Total Purchase per Person\":avgmaleptotal,\n",
    "    \"Average Female Purchase Price\":avgfemalepprice,\n",
    "    \"Average Female Total Purchase Price per Person\":avgfemaleptotal,\n",
    "    \"Average Other/Non-Disclosed Purchase Price\":avgotherpprice,\n",
    "    \"Average Other/Non-Disclosed Total Purchase Price per Person\":avgotherptotal\n",
    "}\n",
    "\n",
    "gendersummarydf = pd.DataFrame.from_dict(genderdict,orient = 'index')\n",
    "gendersummarydf.columns = ['Purchasing Analysis (Gender)']\n",
    "gendersummarydf"
   ]
  },
  {
   "cell_type": "markdown",
   "metadata": {},
   "source": [
    "## Age Demographics"
   ]
  },
  {
   "cell_type": "markdown",
   "metadata": {},
   "source": [
    "* Establish bins for ages\n",
    "\n",
    "\n",
    "* Categorize the existing players using the age bins. Hint: use pd.cut()\n",
    "\n",
    "\n",
    "* Calculate the numbers and percentages by age group\n",
    "\n",
    "\n",
    "* Create a summary data frame to hold the results\n",
    "\n",
    "\n",
    "* Optional: round the percentage column to two decimal points\n",
    "\n",
    "\n",
    "* Display Age Demographics Table\n"
   ]
  },
  {
   "cell_type": "code",
   "execution_count": null,
   "metadata": {},
   "outputs": [],
   "source": [
    "agedf = purchase_datadf.sort_values('Age')\n",
    "agedf.head()"
   ]
  },
  {
   "cell_type": "code",
   "execution_count": null,
   "metadata": {
    "scrolled": true
   },
   "outputs": [],
   "source": [
    "bins = [0,12,19,28,45]\n",
    "group_names = [\"Children\",\"Teenagers\",\"Young Adults\",\"Adults\"]\n",
    "agedf[\"Age Categories\"] = pd.cut(agedf[\"Age\"],bins,labels = group_names)\n",
    "agedf.head()"
   ]
  },
  {
   "cell_type": "code",
   "execution_count": null,
   "metadata": {},
   "outputs": [],
   "source": [
    "agedf"
   ]
  },
  {
   "cell_type": "code",
   "execution_count": null,
   "metadata": {},
   "outputs": [],
   "source": [
    "#Children\n",
    "childsort = agedf.loc[agedf['Age Categories']==\"Children\", :]\n",
    "avgppricechild = childsort['Price'].mean()\n",
    "avgtotalppricechild = childsort['Purchase ID'].count()\n",
    "\n",
    "#Teenagers\n",
    "teensort = agedf.loc[agedf['Age Categories']==\"Teenagers\", :]\n",
    "avgppriceteen = teensort['Price'].mean()\n",
    "avgtotalppriceteen= teensort['Purchase ID'].count()\n",
    "\n",
    "#Young Adults\n",
    "youngadultsort = agedf.loc[agedf['Age Categories']==\"Young Adults\", :]\n",
    "avgppriceyoungadult = youngadultsort['Price'].mean()\n",
    "avgtotalppriceyoungadult = youngadultsort['Purchase ID'].count()\n",
    "\n",
    "#Adults\n",
    "adultsort = agedf.loc[agedf['Age Categories']==\"Adults\", :]\n",
    "avgppriceadult = adultsort['Price'].mean()\n",
    "avgtotalppriceadult = adultsort['Purchase ID'].count()"
   ]
  },
  {
   "cell_type": "code",
   "execution_count": null,
   "metadata": {},
   "outputs": [],
   "source": [
    "agedemographics_dict = {\n",
    "    \"Children's Average Purchase Price\":avgppricechild,\n",
    "    \"Children's Total Average Purchase Price per Child\":avgtotalppricechild,\n",
    "    \"Teenagers Average Purchase Price\":avgppriceteen,\n",
    "    \"Teenagers Total Average Purchase Price per Teen\":avgtotalppriceteen,\n",
    "    \"Young Adults Average Purchase Price\":avgppriceyoungadult,\n",
    "    \"Young Adults Total Average Purchase Price per Young Adult\":avgtotalppriceyoungadult,\n",
    "    \"Adults Average Purchase Price\":avgppriceadult,\n",
    "    \"Adults Total Average Purchase Price per Adult\":avgtotalppriceadult\n",
    "}\n",
    "agedemographicsdf = pd.DataFrame.from_dict(agedemographics_dict,orient='index')\n",
    "agedemographicsdf.columns= [\"Age Demographics Breakdown\"]\n",
    "agedemographicsdf"
   ]
  },
  {
   "cell_type": "markdown",
   "metadata": {},
   "source": [
    "## Purchasing Analysis (Age)"
   ]
  },
  {
   "cell_type": "markdown",
   "metadata": {},
   "source": [
    "* Bin the purchase_data data frame by age\n",
    "\n",
    "\n",
    "* Run basic calculations to obtain purchase count, avg. purchase price, avg. purchase total per person etc. in the table below\n",
    "\n",
    "\n",
    "* Create a summary data frame to hold the results\n",
    "\n",
    "\n",
    "* Optional: give the displayed data cleaner formatting\n",
    "\n",
    "\n",
    "* Display the summary data frame"
   ]
  },
  {
   "cell_type": "code",
   "execution_count": null,
   "metadata": {},
   "outputs": [],
   "source": [
    "bins = [0,10,14,19,24,29,34,39,100]\n",
    "\n",
    "group_names3 = ['<10','10-14','15-19','20-24','25-29','30-34','35-39','40+']\n",
    "\n",
    "purchase_datadf[\"Age Ranges\"] = pd.cut(agedf[\"Age\"],bins,labels = group_names3)\n",
    "\n",
    "dfpurchaseage = purchase_datadf.set_index(\"Age Ranges\")\n",
    "\n",
    "dfpurchaseage.sort_values('Age Ranges',ascending=True)"
   ]
  },
  {
   "cell_type": "markdown",
   "metadata": {},
   "source": [
    "# Write code to get:\n",
    "\n",
    "   # The Avg purchase price\n",
    "\n",
    "\n"
   ]
  },
  {
   "cell_type": "markdown",
   "metadata": {},
   "source": [
    "   # Purchase count"
   ]
  },
  {
   "cell_type": "markdown",
   "metadata": {},
   "source": [
    "   # The total average purchase price per person for each bin.\n",
    "\n",
    "'<10','10-14','15-19','20-24','25-29','30-34','35-39','40+'"
   ]
  },
  {
   "cell_type": "code",
   "execution_count": null,
   "metadata": {},
   "outputs": [],
   "source": [
    "group_names3[0]\n",
    "dfpurchaseage = dfpurchaseage.rename(columns={'Age Ranges': 'AgeRanges'})"
   ]
  },
  {
   "cell_type": "markdown",
   "metadata": {},
   "source": [
    "avgprice = {\n",
    "    '<10':[] ,\n",
    "    '10-14':[],\n",
    "    '15-19':[],\n",
    "    '20-24':[],\n",
    "    '25-29':[],\n",
    "    '30-39':[],\n",
    "    '40+':[]\n",
    "}\n",
    "avgpriceperson = {\n",
    "    '<10':[] ,\n",
    "    '10-14':[],\n",
    "    '15-19':[],\n",
    "    '20-24':[],\n",
    "    '25-29':[],\n",
    "    '30-39':[],\n",
    "    '40+':[]\n",
    "}"
   ]
  },
  {
   "cell_type": "markdown",
   "metadata": {},
   "source": [
    "# A Function to get the results is the best idea\n",
    "\n",
    "    #Then loop through the categories to get the results for each bin\n",
    "\n",
    "- def panalysis_age(rangeval):"
   ]
  },
  {
   "cell_type": "code",
   "execution_count": null,
   "metadata": {},
   "outputs": [],
   "source": [
    "calculations = {\n",
    "    '<10':[],\n",
    "    '10-14':[],\n",
    "    '15-19':[],\n",
    "    '20-24':[],\n",
    "    '25-29':[],\n",
    "    '30-34':[],\n",
    "    '35-39':[],\n",
    "    '40+':[]\n",
    "}"
   ]
  },
  {
   "cell_type": "code",
   "execution_count": null,
   "metadata": {},
   "outputs": [],
   "source": [
    "counter = 0\n",
    "totalcalc = 0\n",
    "val = []\n",
    "totalavg = []\n",
    "totalavgperson = []\n",
    "totalp = 0\n",
    "\n",
    "while counter < len(group_names3):\n",
    "    df = dfpurchaseage.filter(like=group_names3[counter],axis=0) \n",
    "    val.append(df['Purchase ID'].nunique())\n",
    "    \n",
    "    totalavg.append(df.Price.mean())\n",
    "    counter = counter + 1\n",
    "    \n",
    "for count in range(len(totalavg)):\n",
    "    totalp = totalavg[count]/val[count]\n",
    "    totalavgperson.append(totalp)\n",
    "  \n",
    " #totalavgperson"
   ]
  },
  {
   "cell_type": "markdown",
   "metadata": {},
   "source": [
    "        #This is the code that was used above.\n",
    "        #Use it as a template\n",
    "malesort = genderdf.loc[genderdf['Gender']== \"Male\", :]\n",
    "avgmalepprice = malesort['Price'].mean()\n",
    "avgmaleptotal = malesort['Purchase ID'].count()"
   ]
  },
  {
   "cell_type": "markdown",
   "metadata": {},
   "source": [
    "* Run basic calculations to obtain the results in the table below\n",
    "\n",
    "\n",
    "* Create a summary data frame to hold the results\n",
    "\n",
    "\n",
    "* Sort the total purchase value column in descending order\n",
    "\n",
    "\n",
    "* Optional: give the displayed data cleaner formatting\n",
    "\n",
    "\n",
    "* Display a preview of the summary data frame\n",
    "\n"
   ]
  },
  {
   "cell_type": "markdown",
   "metadata": {},
   "source": [
    "## Top Spenders"
   ]
  },
  {
   "cell_type": "code",
   "execution_count": null,
   "metadata": {},
   "outputs": [],
   "source": [
    "purchase_datadf.head(5)"
   ]
  },
  {
   "cell_type": "code",
   "execution_count": null,
   "metadata": {},
   "outputs": [],
   "source": [
    "#Made 'SN'(Customer Usernames) the index\n",
    "topspenders = purchase_datadf['SN']\n",
    "topspendersdf = pd.DataFrame(topspenders)\n",
    "topspendersdf.set_index('SN') \n",
    "topspendersdf"
   ]
  },
  {
   "cell_type": "markdown",
   "metadata": {},
   "source": [
    "## Most Popular Items"
   ]
  },
  {
   "cell_type": "code",
   "execution_count": null,
   "metadata": {},
   "outputs": [],
   "source": [
    "purchasedata_df = pd.DataFrame(purchase_data)\n",
    "#type(purchasedata_df)\n",
    "#purchasedata_df.groupby(['Item Name']).head()\n",
    "purchasedata_df"
   ]
  },
  {
   "cell_type": "code",
   "execution_count": null,
   "metadata": {},
   "outputs": [],
   "source": [
    "mostpopularitems = purchasedata_df.iloc[:,[4,5,6]]\n",
    "groupedpopularitems = mostpopularitems.groupby(['Item ID','Item Name'])\n",
    "mostpopitems = groupedpopularitems\n",
    "mostpopitems.head()"
   ]
  },
  {
   "cell_type": "markdown",
   "metadata": {},
   "source": [
    "# Variables\n",
    "\n",
    "- purchase_data\n",
    "- totalplayers\n",
    "- uniqueitemsname\n",
    "- uniqueitems\n",
    "- avgprice\n",
    "- numberofpurchase\n",
    "- totalrevenue\n",
    "- purchasinganalysis_dict\n",
    "- summarydict\n",
    "- summarydf\n",
    "- purchase_datadf\n",
    "- CountPlayersdf\n",
    "- genderdict \n",
    "- gendersummarydf\n",
    "- agedf\n",
    "- agedemographicsdf\n",
    "- dfpurchaseage\n",
    "- calculations\n",
    "- totalavgperson\n",
    "- topspenders\n",
    "- topspendersdf\n",
    "- mostpopularitems\n",
    "- mostpopitems\n",
    "- uniquepopitems\n",
    "- mostpopitems_df\n",
    "- groupedpopitems_summarydf"
   ]
  },
  {
   "cell_type": "code",
   "execution_count": null,
   "metadata": {},
   "outputs": [],
   "source": [
    "topspendersdf"
   ]
  },
  {
   "cell_type": "code",
   "execution_count": null,
   "metadata": {},
   "outputs": [],
   "source": [
    "uniquepopitems = mostpopitems['Item Name'].nunique()\n",
    "uniquepopitems"
   ]
  },
  {
   "cell_type": "code",
   "execution_count": null,
   "metadata": {},
   "outputs": [],
   "source": [
    "groupedpopitems_summarydf"
   ]
  },
  {
   "cell_type": "code",
   "execution_count": null,
   "metadata": {},
   "outputs": [],
   "source": []
  },
  {
   "cell_type": "markdown",
   "metadata": {},
   "source": [
    "1.) Retrieve the Item ID, Item Name, and Item Price columns\n",
    "\n",
    "\n",
    "2.) Group by Item ID and Item Name. Perform calculations to obtain purchase count, item price, and total purchase value\n",
    "\n",
    "\n",
    "3.) Create a summary data frame to hold the results\n",
    "\n",
    "\n",
    "4.) Sort the purchase count column in descending order\n",
    "\n",
    "\n",
    "5.) Optional: give the displayed data cleaner formatting\n",
    "\n",
    "\n",
    "*Display a preview of the summary data frame*\n"
   ]
  },
  {
   "cell_type": "code",
   "execution_count": null,
   "metadata": {},
   "outputs": [],
   "source": []
  },
  {
   "cell_type": "code",
   "execution_count": null,
   "metadata": {},
   "outputs": [],
   "source": []
  },
  {
   "cell_type": "markdown",
   "metadata": {},
   "source": [
    "## Most Profitable Items"
   ]
  },
  {
   "cell_type": "markdown",
   "metadata": {},
   "source": [
    "* Sort the above table by total purchase value in descending order\n",
    "\n",
    "\n",
    "* Optional: give the displayed data cleaner formatting\n",
    "\n",
    "\n",
    "* Display a preview of the data frame\n",
    "\n"
   ]
  },
  {
   "cell_type": "code",
   "execution_count": null,
   "metadata": {
    "scrolled": true
   },
   "outputs": [],
   "source": []
  },
  {
   "cell_type": "markdown",
   "metadata": {
    "scrolled": true
   },
   "source": [
    "index = [0,1,2]\n",
    "\n",
    "#Percentage of Players(M/F/O)\n",
    "CountPlayers = purchase_datadf[\"Gender\"].value_counts()\n",
    "SumPlayers = CountPlayers.sum() \n",
    "CountPlayersdf = pd.DataFrame(purchase_datadf[\"Gender\"].value_counts())\n",
    "CountPlayersdf = CountPlayersdf.rename(columns={'Gender':'Player Count'})\n",
    "CountPlayersdf\n",
    "\n",
    "#Inserting the Total Count of Players df into the Percent Players Array\n",
    "PercentPlayersArray = CountPlayersdf.values\n",
    "#Getting the Male Percentage\n",
    "PplayersM = pd.DataFrame(PercentPlayersArray[0]/SumPlayers)*100\n",
    "PplayersM = PplayersM.round(decimals=1)\n",
    "#Getting the Female Percentage\n",
    "PplayersF = pd.DataFrame(PercentPlayersArray[1]/SumPlayers)*100\n",
    "PplayersF = PplayersF.round(decimals=1)\n",
    "#Getting the Other/Non-Disclosed Percentage\n",
    "PplayersO = pd.DataFrame(PercentPlayersArray[2]/SumPlayers)*100\n",
    "PplayersO = PplayersO.round(decimals=1)\n",
    "\n",
    "#Creating a new column called 'Gender Percentage' and Inserting the correct values\n",
    "#into each catagory.\n",
    "\n",
    "CountPlayersdf[\" Gender Percentage\"] = pd.DataFrame([[float(PplayersM.values)],[float(PplayersF.values)],[float(PplayersO.values)]],columns= [''],index=['Male','Female','Other/Non-Disclosed'])\n",
    "\n",
    "#Displaying the DataFrame\n",
    "\n",
    "CountPlayersdf"
   ]
  },
  {
   "cell_type": "raw",
   "metadata": {},
   "source": []
  }
 ],
 "metadata": {
  "anaconda-cloud": {},
  "kernel_info": {
   "name": "python3"
  },
  "kernelspec": {
   "display_name": "Python 3",
   "language": "python",
   "name": "python3"
  },
  "language_info": {
   "codemirror_mode": {
    "name": "ipython",
    "version": 3
   },
   "file_extension": ".py",
   "mimetype": "text/x-python",
   "name": "python",
   "nbconvert_exporter": "python",
   "pygments_lexer": "ipython3",
   "version": "3.7.4"
  },
  "latex_envs": {
   "LaTeX_envs_menu_present": true,
   "autoclose": false,
   "autocomplete": true,
   "bibliofile": "biblio.bib",
   "cite_by": "apalike",
   "current_citInitial": 1,
   "eqLabelWithNumbers": true,
   "eqNumInitial": 1,
   "hotkeys": {
    "equation": "Ctrl-E",
    "itemize": "Ctrl-I"
   },
   "labels_anchors": false,
   "latex_user_defs": false,
   "report_style_numbering": false,
   "user_envs_cfg": false
  },
  "nteract": {
   "version": "0.2.0"
  }
 },
 "nbformat": 4,
 "nbformat_minor": 2
}
